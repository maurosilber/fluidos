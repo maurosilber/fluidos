{
 "cells": [
  {
   "cell_type": "markdown",
   "metadata": {},
   "source": [
    "## 2)"
   ]
  },
  {
   "cell_type": "markdown",
   "metadata": {},
   "source": [
    "> Rehacer el Problema 1) considerando ahora un flujo estratificado en la aproximación de Boussinesq.\n",
    "Utilice el solver BOUSS de GHOST, nuevamente con condiciones iniciales nulas para el campo de velocidad,\n",
    "con forzado mecánico aleatorio con amplitud `f0 = 0.75` centrado en los modos Fourier con $k$ entre $1$ y $4$\n",
    "(i.e., `kdn = 1`, `kup = 4`)\n",
    "con las mismas propiedades temporales que en el problema anterior (`rand=2`, `cort=0.5`),\n",
    "y sin fluctuaciones iniciales en la temperatura y sin fuentes térmicas ($c0 = s0 = 0$).\n",
    "Utilice\n",
    "una frecuencia de Brunt-Väisälä $N = 8$,\n",
    "viscosidad cinemática y difusividad térmica $ν = κ = 2 × 10^{−3}$ y\n",
    "$192 × 192 × 48$ puntos de resolución espacial en un dominio cúbico con tamaño $2π × 2π × π/2$."
   ]
  },
  {
   "cell_type": "code",
   "execution_count": 1,
   "metadata": {},
   "outputs": [],
   "source": [
    "import numpy as np\n",
    "import matplotlib.pyplot as plt\n",
    "from common import Output\n",
    "from ghost_xarray import open_dataarray\n",
    "\n",
    "\n",
    "plt.rc(\"figure\", dpi=100, figsize=(6, 3))\n",
    "\n",
    "t_max = 25\n",
    "Δt_save_spectrum = 0.5\n",
    "Δt_save_field = 1.5\n",
    "\n",
    "output = Output(\n",
    "    \"problema1/output/\",\n",
    "    dt=Δt_save_spectrum,\n",
    "    balance=[\"time\", \"<v^2>\", \"<omega^2>\", \"mechanic injection rate\"],\n",
    "    helicity=[\"time\", \"kinetic helicity\"],\n",
    "    kspectrum=[\"k\", \"Ev(k)\"],\n",
    "    ktransfer=[\"k\", \"Tv(k)\"],\n",
    "    kspecpara=[\"kz\", \"Ev(kz)\", \"Ev_perp(kz)\", \"Ev_z(kz)\"],\n",
    "    kspecperp=[\"kp\", \"E_v(kp)\", \"ev_x,y(kp,kz=0)\", \"ev_z(kp,kz=0)\"],\n",
    ")"
   ]
  },
  {
   "cell_type": "markdown",
   "metadata": {},
   "source": [
    "> a) Compare las resoluciones espaciales $∆x$, $∆y$ y $∆z$ del problema con las del Problema 1).\n",
    "¿Como justifica los cambios en el tamaño del dominio y en la resolución?"
   ]
  },
  {
   "cell_type": "markdown",
   "metadata": {},
   "source": [
    "> b) Grafique la energía cinética, la energía potencial, y el cociente entre ambas.\n",
    "¿Como son las fluctuaciones térmicas comparadas con la velocidad?"
   ]
  },
  {
   "cell_type": "markdown",
   "metadata": {},
   "source": [
    "> c) Grafique el espectro de energía cinética isótropo $E(k)$,\n",
    "el espectro de energía cinética perpendicular $E(k⊥)$,\n",
    "y el espectro de energía cinética paralelo $E(k∥)$\n",
    "promediados en el tiempo, para tiempos suficientemente tardíos.\n",
    "Compare los espectros con las predicciones fenomenológicas."
   ]
  },
  {
   "cell_type": "markdown",
   "metadata": {},
   "source": [
    "> d) Utilizando los espectros de energía calcule\n",
    "la longitud integral isótropa $L$,\n",
    "la longitud perpendicular $L⊥$,\n",
    "y la longitud paralela $L∥$\n",
    "en función del tiempo.\n",
    "Calcule la longitud paralela obtenida por análisis dimensional\n",
    "(la \"longitud de empuje\"), $L_B = 2π/k_B$ (con $k_B = N/U$, donde $U$ es la velocidad típica del fluido),\n",
    "y compare esta longitud con la obtenida a partir del espectro, $L∥$.\n",
    "Utilizando estas longitudes estime el número de Reynolds y los números de Froude paralelo y perpendicular (puede asumir $U⊥ ∼ U$)."
   ]
  },
  {
   "cell_type": "markdown",
   "metadata": {},
   "source": [
    "> e) Para algún tiempo $t > t^*$,\n",
    "grafique un corte de las fluctuaciones de temperatura $π$ en el plano $x − z$.\n",
    "¿Qué observa? ¿Son compatibles las estructuras con lo que esperaba?"
   ]
  }
 ],
 "metadata": {
  "kernelspec": {
   "display_name": "Python 3.10.6 64-bit ('env')",
   "language": "python",
   "name": "python3"
  },
  "language_info": {
   "codemirror_mode": {
    "name": "ipython",
    "version": 3
   },
   "file_extension": ".py",
   "mimetype": "text/x-python",
   "name": "python",
   "nbconvert_exporter": "python",
   "pygments_lexer": "ipython3",
   "version": "3.10.6"
  },
  "orig_nbformat": 4,
  "vscode": {
   "interpreter": {
    "hash": "8fc42ed56a743f4c1516c71f375d52e48a5777475cd02c374b44061732c88ad3"
   }
  }
 },
 "nbformat": 4,
 "nbformat_minor": 2
}

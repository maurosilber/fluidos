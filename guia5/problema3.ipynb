{
 "cells": [
  {
   "cell_type": "markdown",
   "metadata": {},
   "source": [
    "## 3) Magnetohidrodinámica"
   ]
  },
  {
   "cell_type": "markdown",
   "metadata": {},
   "source": [
    "> Haciendo uso del solver MHDB,\n",
    "resuelva numéricamente las ecuaciones MHD\n",
    "con un campo guía $B_0 = B_0 ẑ$\n",
    "desde $t = 0$ hasta $t = 20$\n",
    "usando $dt = 4 × 10^{−3}$\n",
    "con $128 × 128 × 64$ puntos espaciales en un dominio con tamaño 2π × 2π × 2π.\n",
    "Imponga un campo guía $B_0 = 2$,\n",
    "y utilice una viscosidad cinemática y difusividad magnética $ν = η = 3.5 × 10^{−3}$.\n",
    "Utilice condiciones iniciales aleatorias para el campo de velocidad y magnético\n",
    "con amplitud igual a $1$\n",
    "entre `kdn = 1` y `kup = 10`,\n",
    "con una correlación cruzada $K$ mayor a $∼0.3$,\n",
    "y sin fuerzas externas.\n",
    "En particular,\n",
    "deje decaer libremente al sistema\n",
    "(si a $t = 0$ $K$ es menor que $∼0.3$,\n",
    "cambie el valor de la semilla *seed* para el generador de números al azar en el archivo `\"parameter.inp\"`)."
   ]
  },
  {
   "cell_type": "markdown",
   "metadata": {},
   "source": [
    "> a) Grafique la energía total y la helicidad cruzada en función del tiempo.\n",
    "¿Decaen con la misma tasa?"
   ]
  },
  {
   "cell_type": "markdown",
   "metadata": {},
   "source": [
    "> b) Grafique la energía cinética y magnética en función del tiempo."
   ]
  },
  {
   "cell_type": "markdown",
   "metadata": {},
   "source": [
    "> c) Grafique el producto\n",
    ">\n",
    "> $$\\frac{u · b}{(⟨u^2 ⟩⟨b^2 ⟩)^{1/2}}$$\n",
    ">\n",
    "> ¿A qué valor evoluciona? ¿Por qué?"
   ]
  },
  {
   "cell_type": "markdown",
   "metadata": {},
   "source": [
    "> d) Grafique los espectros de la energía cinética y magnética.\n",
    "¿Qué pendientes observa en dichos espectros?"
   ]
  }
 ],
 "metadata": {
  "kernelspec": {
   "display_name": "Python 3.10.6 64-bit ('env')",
   "language": "python",
   "name": "python3"
  },
  "language_info": {
   "name": "python",
   "version": "3.10.6"
  },
  "orig_nbformat": 4,
  "vscode": {
   "interpreter": {
    "hash": "8fc42ed56a743f4c1516c71f375d52e48a5777475cd02c374b44061732c88ad3"
   }
  }
 },
 "nbformat": 4,
 "nbformat_minor": 2
}

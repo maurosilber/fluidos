{
 "cells": [
  {
   "cell_type": "markdown",
   "metadata": {},
   "source": [
    "## 1) Anisotropía, longitudes características y números de Reynolds"
   ]
  },
  {
   "cell_type": "markdown",
   "metadata": {},
   "source": [
    "> Haciendo uso del solver ROTH en GHOST,\n",
    "resuelva numéricamente la ecuación para un flujo rotante incompresible\n",
    "con densidad uniforme $ρ_0 = 1$ y $ν = 2 × 10^{−3}$\n",
    "en un recinto cubico $2π × 2π × 2π$ y resolución espacial `Nx = Ny = 192` y `Nz = 48`.\n",
    "Hacer uso del Material Adicional.\n",
    "Para condiciones iniciales nulas para el campo de velocidades\n",
    "y un forzado mecánico aleatorio con amplitud f0 = 0.75\n",
    "y número de onda `kup = kdn = 1`\n",
    "integre las ecuaciones hasta $t = 25$.\n",
    "En el forzado actualice las fases al azar\n",
    "(con la opción `rand = 2` en el archivo de entrada)\n",
    "con un tiempo de correlación `cort = 0.5`\n",
    "(de esta forma las fases de los modos Fourier en el forzado cambiarán cada $∆t = 0.5$).\n",
    "Utilice una frecuencia de rotación $Ω_z = 8$ y\n",
    "guarde los espectros cinéticos cada $∆t ∼ 0.5$ y el campo de velocidades cada $∆t ∼ 1.5$."
   ]
  },
  {
   "cell_type": "markdown",
   "metadata": {},
   "source": [
    "> a) Utilizando la resolución espacial y la condición CFL,\n",
    "y asumiendo que en el estado turbulento la velocidad característica será $u ∼ 1$,\n",
    "elija el paso temporal $dt$ que utilizará para la integración numérica."
   ]
  },
  {
   "cell_type": "markdown",
   "metadata": {},
   "source": [
    "> b) Grafique la energía, la enstrofía y la tasa de inyección de energía en función del tiempo\n",
    "(ayuda: ver la segunda, tercera y cuarta columna del archivo `’balance.txt’`).\n",
    "Verifique numéricamente la relación\n",
    "> \n",
    "> $$ \\frac{dE}{dt} = ε − 2νZ \\tag{1} $$\n",
    "> \n",
    "> donde $Z$ es la enstrofía.\n",
    "Interprete el resultado."
   ]
  },
  {
   "cell_type": "markdown",
   "metadata": {},
   "source": [
    "> c) Identifique el tiempo aproximado en el que el sistema llega al régimen turbulento $t^*$.\n",
    "Grafique el espectro de energía isótropo $E(k)$,\n",
    "el espectro de energía perpendicular $E(k⊥)$,\n",
    "y el espectro de energía paralelo $E(k∥)$,\n",
    "promediados en el tiempo desde $t^*$ hasta $t = 25$\n",
    "(ayuda: el código guarda el espectro perpendicular en los archivos `’kspecperp.*.txt’`,\n",
    "y el espectro paralelo en `’kspecpara.*.txt’`).\n",
    "Compare el espectro perpendicular con la predicción fenomenológica."
   ]
  },
  {
   "cell_type": "markdown",
   "metadata": {},
   "source": [
    "> d) Utilizando los espectros de energía calcule\n",
    "la longitud integral isótropa $L$,\n",
    "la longitud perpendicular $L⊥$,\n",
    "y la longitud paralela $L∥$ en función del tiempo."
   ]
  },
  {
   "cell_type": "markdown",
   "metadata": {},
   "source": [
    "> e) Estime el número de Reynolds, el número de Rossby, y el número de onda de Zeman $k_Ω$ en el régimen\n",
    "turbulento.\n",
    "Note que como el forzado varía aleatoriamente en el tiempo también varía y puede cambiar de signo.\n",
    "Por lo tanto, puede obtener una mejor estimación de $k_Ω$\n",
    "asumiendo que en el estado turbulento $dE/dt ∼ 0$ (en promedio temporal)\n",
    "y usando $ε ∼ 2νZ$.\n",
    "Compare $k_Ω$ con el mayor número de onda resuelto.\n",
    "¿Son isótropas las estructuras en las escalas más pequeñas de este flujo?"
   ]
  },
  {
   "cell_type": "markdown",
   "metadata": {},
   "source": [
    "> f) Para algún tiempo $t > t^*$, grafique un corte de la vorticidad ωz en el plano $x − z$.\n",
    "¿Qué observa? ¿Son compatibles las estructuras con lo que esperaba?"
   ]
  }
 ],
 "metadata": {
  "kernelspec": {
   "display_name": "Python 3.10.6 64-bit ('env')",
   "language": "python",
   "name": "python3"
  },
  "language_info": {
   "name": "python",
   "version": "3.10.6"
  },
  "orig_nbformat": 4,
  "vscode": {
   "interpreter": {
    "hash": "8fc42ed56a743f4c1516c71f375d52e48a5777475cd02c374b44061732c88ad3"
   }
  }
 },
 "nbformat": 4,
 "nbformat_minor": 2
}

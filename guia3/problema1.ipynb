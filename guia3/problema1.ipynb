{
 "cells": [
  {
   "cell_type": "markdown",
   "metadata": {},
   "source": [
    "# 1) Puntos Fijos y Bifurcaciones\n",
    "\n",
    "Crecimiento Poblacional Humano:\n",
    "un modelo simple de crecimiento poblacional de organismos vivos\n",
    "es ̇$\\dot{N} = rN$,\n",
    "donde $N(t) = N_0 e^{rt}$ es la población al tiempo $t$,\n",
    "$r > 0$ es la tasa de crecimiento\n",
    "y $N(t=0) = N_0$.\n",
    "Es un hecho empírico que\n",
    "el crecimiento exponencial predicho por este modelo\n",
    "no puede continuar por siempre.\n",
    "Un modelo más realista es\n",
    "aquel propuesto por Verhulst (1838) para el crecimiento poblacional humano:\n",
    "$$\\dot{N} = r \\Big(1 − \\frac{N}{K} \\Big) N \\tag{1}$$\n",
    "donde $K > 0$ es la capacidad de carga."
   ]
  },
  {
   "cell_type": "markdown",
   "metadata": {},
   "source": [
    "> a) Resuelva analiticamente el modelo (1)\n",
    "para una dada condición inicial arbitraria $N(t=0) = N_0$.\n",
    "Ayuda: utilice el cambio de variables: x = 1/N."
   ]
  },
  {
   "cell_type": "markdown",
   "metadata": {},
   "source": [
    "Tomando $x = 1 / N$,\n",
    "tenemos $\\dot{x} = -1/N^2 \\; \\dot{N}$,\n",
    "y la ecuación queda:\n",
    "\n",
    "$$\\dot{x} = -r \\; (x − \\frac{1}{K})$$\n",
    "\n",
    "cuya solución es\n",
    "\n",
    "$$ x(t) = \\left( \\frac{1}{K}-\\frac{1}{N_0} \\right) e^{-rt} + \\frac{1}{K} $$\n",
    "\n",
    "Volviendo a las variables originales,\n",
    "tenemos:\n",
    "\n",
    "$$ N(t) = \\frac{1}{\\left( \\frac{1}{K}-\\frac{1}{N_0} \\right) e^{-rt} + \\frac{1}{K}} $$"
   ]
  },
  {
   "cell_type": "markdown",
   "metadata": {},
   "source": [
    "> b) Encuentre los puntos fijos y estudie su estabilidad.\n",
    "Grafique cualitativamente $N(t)$."
   ]
  },
  {
   "cell_type": "markdown",
   "metadata": {},
   "source": [
    "Los puntos fijos están dados por $\\dot{N} = 0$,\n",
    "y son $N=0$ y $N=K$.\n",
    "\n",
    "Podemos estudiar la estabilidad a través del signo de la derivada:\n",
    "\n",
    "$$ \\frac{\\partial \\dot{N}}{\\partial N} = r \\; (1 - \\frac{2N}{K}) $$\n",
    "\n",
    "Dado que $r>0$,\n",
    "para $N=0$,\n",
    "$\\frac{\\partial \\dot{N}}{\\partial N} = r$,\n",
    "y es un punto fijo inestable.\n",
    "En cambio,\n",
    "para $N=K$,\n",
    "$\\frac{\\partial \\dot{N}}{\\partial N} = -r$,\n",
    "y es un punto fijo estable."
   ]
  },
  {
   "cell_type": "code",
   "execution_count": 1,
   "metadata": {},
   "outputs": [
    {
     "data": {
      "text/plain": [
       "<matplotlib.legend.Legend at 0x7ff155afa2c0>"
      ]
     },
     "execution_count": 1,
     "metadata": {},
     "output_type": "execute_result"
    },
    {
     "data": {
      "image/png": "[encoded data removed]",
      "text/plain": [
       "<Figure size 480x240 with 1 Axes>"
      ]
     },
     "metadata": {
      "needs_background": "light"
     },
     "output_type": "display_data"
    }
   ],
   "source": [
    "import numpy as np\n",
    "import matplotlib.pyplot as plt\n",
    "\n",
    "r, K = 1, 1\n",
    "N = np.linspace(-0.1, 1.1, 100)\n",
    "dN = r * (1 - N/K) * N\n",
    "\n",
    "plt.figure(figsize=(4, 2), dpi=120)\n",
    "plt.plot(N, dN)\n",
    "plt.scatter([0, K], [0, 0], s=50, label=\"Puntos fijos\")\n",
    "plt.axhline(0, color=\"black\")\n",
    "plt.axvline(0, color=\"black\")\n",
    "plt.xlabel(\"N\")\n",
    "plt.ylabel(\"dN/dt\")\n",
    "plt.xticks([0, K], [0, \"K\"])\n",
    "plt.yticks([0, r * K/4], [0, \"rK/4\"])\n",
    "plt.legend()"
   ]
  },
  {
   "cell_type": "markdown",
   "metadata": {},
   "source": [
    "> c) ¿Existen bifurcaciones en el modelo (1)? En caso afirmativo, estudie las mismas."
   ]
  },
  {
   "cell_type": "markdown",
   "metadata": {},
   "source": [
    "Hay bifurcaciones cuando $r$ y $K$ cambian de signo.\n",
    "Pero no son valores posibles para el modelo planteado."
   ]
  }
 ],
 "metadata": {
  "kernelspec": {
   "display_name": "Python 3.10.6 ('fluidos')",
   "language": "python",
   "name": "python3"
  },
  "language_info": {
   "codemirror_mode": {
    "name": "ipython",
    "version": 3
   },
   "file_extension": ".py",
   "mimetype": "text/x-python",
   "name": "python",
   "nbconvert_exporter": "python",
   "pygments_lexer": "ipython3",
   "version": "3.10.6"
  },
  "orig_nbformat": 4,
  "vscode": {
   "interpreter": {
    "hash": "439874a39b328a25278d9ded35b3a72862032f9a8ccb66153f1357733154c015"
   }
  }
 },
 "nbformat": 4,
 "nbformat_minor": 2
}

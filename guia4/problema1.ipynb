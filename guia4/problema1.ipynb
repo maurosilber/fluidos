{
 "cells": [
  {
   "cell_type": "markdown",
   "metadata": {},
   "source": [
    "## 1) Ley de Richardson"
   ]
  },
  {
   "cell_type": "markdown",
   "metadata": {},
   "source": [
    "### a)\n",
    "> Dos elementos de fluido en un flujo turbulento isótropo y homogéneo\n",
    "están inicialmente a una distancia $λ$ dentro del rango inercial.\n",
    "A partir de análisis dimensional,\n",
    "muestre que esta distancia crece como,\n",
    "> $$ \\frac{dλ}{dt} ∼ (ελ)^{⅓} \\tag{1}$$\n",
    "> donde $ε$ es la tasa de disipación de energía por unidad de tiempo."
   ]
  },
  {
   "cell_type": "markdown",
   "metadata": {},
   "source": [
    "Como $U^2$ tiene unidades de energía (por unidad de masa),\n",
    "\n",
    "$$ ε ∼ \\frac{U²}{τ} = \\frac{U³}{λ} $$\n",
    "\n",
    "donde $U$, $τ$, y $λ$ son la velocidad, el tiempo y la longitud característicos.\n",
    "\n",
    "Entonces,\n",
    "\n",
    "$$ \\frac{d λ}{dt} \\sim U \\sim (ε λ)^⅓ $$"
   ]
  },
  {
   "cell_type": "markdown",
   "metadata": {},
   "source": [
    "## b)\n",
    "> Deduzca entonces la Ley de Richardson para la difusión turbulenta:\n",
    "el tiempo requerido para que la distancia entre los dos elementos de fluido sea\n",
    "$λ₂$ (con $λ₂ ≫ λ₁$ ) es $τ ∼ (λ₂^2 / ε)^{⅓}$\n",
    "(o, equivalentemente, que la distancia cuadrática que separa las partículas crece como el tiempo al cubo)."
   ]
  },
  {
   "cell_type": "markdown",
   "metadata": {},
   "source": [
    "$$ τ\n",
    "∼ λ / U\n",
    "= λ / (ε λ)^{⅓}\n",
    "= (λ² / ε)^{⅓}\n",
    "$$"
   ]
  }
 ],
 "metadata": {
  "kernelspec": {
   "display_name": "Python 3.10.6",
   "language": "python",
   "name": "python3"
  },
  "language_info": {
   "name": "python",
   "version": "3.10.6"
  },
  "orig_nbformat": 4,
  "vscode": {
   "interpreter": {
    "hash": "ad732e656cb8f18854aa9ba676638a16ea711dfecbde891b8424a44810606e85"
   }
  }
 },
 "nbformat": 4,
 "nbformat_minor": 2
}

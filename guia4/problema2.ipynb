{
 "cells": [
  {
   "cell_type": "markdown",
   "metadata": {},
   "source": [
    "## 2)"
   ]
  },
  {
   "cell_type": "markdown",
   "metadata": {},
   "source": [
    "### a)\n",
    "> A partir de análisis dimensional,\n",
    "muestre que para un flujo turbulento isótropo y homogéneo en ausencia de fuerzas externas\n",
    "el balance de energía en el rango inercial se reduce a\n",
    "> $$ \\frac{∂E}{∂t} ∼ −ε \\tag{2} $$"
   ]
  },
  {
   "cell_type": "markdown",
   "metadata": {},
   "source": [
    "Multiplicando la ecuación de Navier-Stokes por $𝐮$,\n",
    "tenemos:\n",
    "\n",
    "$$ \\frac{∂𝐮^2/2}{∂t} + 𝐮 · (𝐮 · ∇𝐮) = −𝐮 · ∇\\frac{p}{ρ₀} + ν𝐮 · ∇² 𝐮 $$\n",
    "\n",
    "El término con $\\nu$ lo podemos despreciar,\n",
    "ya que estamos en el rango inercial.\n",
    "\n",
    "Por otro lado,\n",
    "\n",
    "$$ 𝐮 · ∇\\frac{p}{ρ₀} = ∇ · \\left(\\frac{p}{ρ₀} 𝐮\\right) - \\frac{p}{ρ₀} ∇ · 𝐮 $$\n",
    "\n",
    "El segundo término se anula,\n",
    "al ser un fluido incompresible.\n",
    "El primero se anula al considerar la integral en volumen,\n",
    "ya que el fluido es isótropo y homogeneo.\n",
    "\n",
    "Entonces,\n",
    "\n",
    "$$ \\frac{∂E}{∂t} \\sim 𝐮 · (𝐮 · ∇𝐮) ∼ U³ / L ∼ ε $$"
   ]
  },
  {
   "cell_type": "markdown",
   "metadata": {},
   "source": [
    "### b)\n",
    "> Asumiendo que la energía decae en forma auto–semejante,\n",
    "$E(t) ∼ E₀ t^{−α}$\n",
    "y que el fluido está contenido en un recipiente con longitud característica $L$,\n",
    "muestre que $α = 2$."
   ]
  },
  {
   "cell_type": "markdown",
   "metadata": {},
   "source": [
    "Derivando con respecto al tiempo,\n",
    "tenemos:\n",
    "\n",
    "$$ \\frac{∂E(t)}{∂t} = −α E₀ t^{−α−1} ∼ [E₀] τ^{−α−1}$$\n",
    "\n",
    "Por otro lado,\n",
    "según el punto anterior\n",
    "$$ \\frac{∂E(t)}{∂t} ∼ −ε $$\n",
    "\n",
    "Entonces,\n",
    "$$ [E₀] τ^{−α−1} ∼ \\frac{∂E(t)}{∂t} ∼ −ε ∼ \\frac{L²}{τ³} $$\n",
    "\n",
    "Como $E_0$ no depende del tiempo,\n",
    "$α = 2$."
   ]
  }
 ],
 "metadata": {
  "kernelspec": {
   "display_name": "Python 3.10.6 64-bit ('env')",
   "language": "python",
   "name": "python3"
  },
  "language_info": {
   "name": "python",
   "version": "3.10.6"
  },
  "orig_nbformat": 4,
  "vscode": {
   "interpreter": {
    "hash": "8fc42ed56a743f4c1516c71f375d52e48a5777475cd02c374b44061732c88ad3"
   }
  }
 },
 "nbformat": 4,
 "nbformat_minor": 2
}

{
 "cells": [
  {
   "cell_type": "markdown",
   "metadata": {},
   "source": [
    "## 2)"
   ]
  },
  {
   "cell_type": "markdown",
   "metadata": {},
   "source": [
    "### a)\n",
    "> A partir de análisis dimensional,\n",
    "muestre que para un flujo turbulento isótropo y homogéneo en ausencia de fuerzas externas\n",
    "el balance de energía en el rango inercial se reduce a\n",
    "> $$ \\frac{∂E}{∂t} ∼ −ε \\tag{2} $$"
   ]
  },
  {
   "cell_type": "markdown",
   "metadata": {},
   "source": [
    "### b)\n",
    "> Asumiendo que la energía decae en forma auto–semejante,\n",
    "$E(t) ∼ E₀ t^{−α}$\n",
    "y que el fluido está contenido en un recipiente con longitud característica $L$,\n",
    "muestre que $α = 2$."
   ]
  }
 ],
 "metadata": {
  "kernelspec": {
   "display_name": "Python 3.10.6",
   "language": "python",
   "name": "python3"
  },
  "language_info": {
   "name": "python",
   "version": "3.10.6"
  },
  "orig_nbformat": 4,
  "vscode": {
   "interpreter": {
    "hash": "ad732e656cb8f18854aa9ba676638a16ea711dfecbde891b8424a44810606e85"
   }
  }
 },
 "nbformat": 4,
 "nbformat_minor": 2
}

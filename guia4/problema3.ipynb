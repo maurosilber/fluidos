{
 "cells": [
  {
   "cell_type": "markdown",
   "metadata": {},
   "source": [
    "## 3) Espectro de Kolmogorov y la ley de los 4/5"
   ]
  },
  {
   "cell_type": "markdown",
   "metadata": {},
   "source": [
    "> Considere una magnitud escalar $θ$\n",
    "que es advectada y difundida en forma pasiva\n",
    "por un flujo incompresible turbulento isótropo y homogéneo con densidad uniforme $ρ₀$.\n",
    "Las ecuaciones que describen la dinámica del sistema son\n",
    "la ecuación de Navier-Stokes para el campo de velocidad $u$,\n",
    "y la ecuación de advección para la concentración del escalar pasivo $θ$,\n",
    "> $$\n",
    "\\begin{aligned}\n",
    "    \\frac{∂𝐮}{∂t} + 𝐮 · ∇𝐮 &= −∇\\frac{ρ}{ρ₀} + ν∇² 𝐮\n",
    "\\\\  \\frac{∂θ}{∂t} + 𝐮 · ∇θ &= κ∇² θ\n",
    "\\end{aligned}\n",
    "> $$\n",
    "> donde κ es la difusividad del escalar pasivo."
   ]
  },
  {
   "cell_type": "markdown",
   "metadata": {},
   "source": [
    "### a)\n",
    "> Asumiendo condiciones de contorno periódicas,\n",
    "obtenga una ecuación de balance para la varianza del escalar pasivo,\n",
    "> $$ Θ = ⟨θ²⟩ = \\frac{1}{2v} ∫ θ² dV $$\n",
    "> y muestre que $Θ$ es una magnitud conservada cuando $κ = 0$."
   ]
  },
  {
   "cell_type": "markdown",
   "metadata": {},
   "source": [
    "### b)\n",
    "> Utilizando análisis dimensional,\n",
    "muestre que en el rango inercial el flujo de la varianza del escalar pasivo,\n",
    "> $ ε_θ ∼ \\frac{dΘ}{dt} $\n",
    "> satisface la siguiente relación:\n",
    "> $$ ε_θ ∼ \\frac{δθ²_ℓ δu_ℓ}{ℓ} $$\n",
    "> donde $ℓ$ es una escala del rango inercial\n",
    "y δ implica la función incremento.\n",
    "Esta ley es equivalente a la ley de los 4/5 de Kolmogorov para el campo de velocidades.\n",
    "Interprete este resultado en términos de una cascada turbulenta de la magnitud física."
   ]
  },
  {
   "cell_type": "markdown",
   "metadata": {},
   "source": [
    "### c)\n",
    "> Utilizando esta relación,\n",
    "y asumiendo que el espectro de la energía cinética es el espectro de Kolmogorov,\n",
    "> $ E(k) = C_K ε^{2/3} k^{−5/3} $,\n",
    "> obtenga la predicción de Kolmogorov–Obukhov–Corrsin\n",
    "para el espectro de la varianza del escalar pasivo,\n",
    "> $ E_θ (k) = C_θ ε^{−1/3} ε_θ k^{−5/3} $."
   ]
  }
 ],
 "metadata": {
  "language_info": {
   "name": "python"
  },
  "orig_nbformat": 4
 },
 "nbformat": 4,
 "nbformat_minor": 2
}

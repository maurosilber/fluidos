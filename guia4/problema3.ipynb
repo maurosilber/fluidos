{
 "cells": [
  {
   "cell_type": "markdown",
   "metadata": {},
   "source": [
    "## 3) Espectro de Kolmogorov y la ley de los 4/5"
   ]
  },
  {
   "cell_type": "markdown",
   "metadata": {},
   "source": [
    "> Considere una magnitud escalar $θ$\n",
    "que es advectada y difundida en forma pasiva\n",
    "por un flujo incompresible turbulento isótropo y homogéneo con densidad uniforme $ρ₀$.\n",
    "Las ecuaciones que describen la dinámica del sistema son\n",
    "la ecuación de Navier-Stokes para el campo de velocidad $u$,\n",
    "y la ecuación de advección para la concentración del escalar pasivo $θ$,\n",
    "> $$\n",
    "\\begin{aligned}\n",
    "    \\frac{∂𝐮}{∂t} + 𝐮 · ∇𝐮 &= −∇\\frac{p}{ρ₀} + ν∇² 𝐮\n",
    "\\\\  \\frac{∂θ}{∂t} + 𝐮 · ∇θ &= κ∇² θ\n",
    "\\end{aligned}\n",
    "> $$\n",
    "> donde κ es la difusividad del escalar pasivo."
   ]
  },
  {
   "cell_type": "markdown",
   "metadata": {},
   "source": [
    "### a)\n",
    "> Asumiendo condiciones de contorno periódicas,\n",
    "obtenga una ecuación de balance para la varianza del escalar pasivo,\n",
    "> $$ Θ = \\frac{1}{2} ⟨θ²⟩ = \\frac{1}{2V} ∫ θ² dV $$\n",
    "> y muestre que $Θ$ es una magnitud conservada cuando $κ = 0$."
   ]
  },
  {
   "cell_type": "markdown",
   "metadata": {},
   "source": [
    "Multiplicando la ecuación de $θ$ por $θ$,\n",
    "se obtiene:\n",
    "\n",
    "$$ \\frac{∂θ²}{∂t} + 𝐮 · ∇θ² = κθ ∇² θ $$\n",
    "\n",
    "Integrando en volumen,\n",
    "se llega a:\n",
    "\n",
    "$$ \\begin{aligned}\n",
    "2V \\frac{dΘ}{dt}\n",
    "&= ∫ \\frac{∂θ²}{∂t} \\;dV\n",
    "\\\\ &= - ∫ 𝐮 · ∇θ² \\;dV + ∫ κ∇² θ² \\;dV + ∫ (∇θ)² \\;dV\n",
    "\\\\ &= - ∫ [∇(θ²𝐮) - θ² ∇·𝐮] \\;dV + ∫ κ θ ∇² θ \\;dV\n",
    "\\\\ &= ∫ κ θ ∇² θ \\;dV\n",
    "\\end{aligned} $$\n",
    "\n",
    "donde $ ∫ ∇(θ²𝐮) dV $ se puede escribir como una integral de superficie,\n",
    "que se anula al ser condiciones de contorno periodicas,\n",
    "y el término $∇·𝐮$ se anula por incompresibilidad.\n",
    "\n",
    "Entonces,\n",
    "cuando $κ = 0$,\n",
    "$\\frac{dΘ}{dt} = 0$\n",
    "y $Θ$ se conserva."
   ]
  },
  {
   "cell_type": "markdown",
   "metadata": {},
   "source": [
    "### b)\n",
    "> Utilizando análisis dimensional,\n",
    "muestre que en el rango inercial el flujo de la varianza del escalar pasivo,\n",
    "> $ ε_θ ∼ \\frac{dΘ}{dt} $\n",
    "> satisface la siguiente relación:\n",
    "> $$ ε_θ ∼ \\frac{δθ²_ℓ δu_ℓ}{ℓ} $$\n",
    "> donde $ℓ$ es una escala del rango inercial\n",
    "y δ implica la función incremento.\n",
    "Esta ley es equivalente a la ley de los 4/5 de Kolmogorov para el campo de velocidades.\n",
    "Interprete este resultado en términos de una cascada turbulenta de la magnitud física."
   ]
  },
  {
   "cell_type": "markdown",
   "metadata": {},
   "source": [
    "$$ \\frac{dΘ}{dt} = \\frac{1}{2V} ∫ κ θ ∇² θ \\;dV $$\n",
    "\n",
    "Entonces,\n",
    "$$ \\epsilon_\\theta\n",
    "\\sim \\frac{dΘ}{dt}\n",
    "\\sim [\\theta^2]\n",
    "\\underbrace{[L^2 / T]}_{\\kappa}\n",
    "\\underbrace{[L^{-2}]}_{∇²}\n",
    "\\underbrace{[L^3]}_{dV}\n",
    "\\underbrace{[L^{-3}]}_{1/V}\n",
    "= \\frac{\\theta^2}{T}\n",
    "= \\frac{\\theta^2 U}{L}\n",
    "$$"
   ]
  },
  {
   "cell_type": "markdown",
   "metadata": {},
   "source": [
    "### c)\n",
    "> Utilizando esta relación,\n",
    "y asumiendo que el espectro de la energía cinética es el espectro de Kolmogorov,\n",
    "> $ E(k) = C_K ε^{2/3} k^{−5/3} $,\n",
    "> obtenga la predicción de Kolmogorov–Obukhov–Corrsin\n",
    "para el espectro de la varianza del escalar pasivo,\n",
    "> $ E_θ (k) = C_θ ε^{−1/3} ε_θ k^{−5/3} $."
   ]
  },
  {
   "cell_type": "markdown",
   "metadata": {},
   "source": [
    "$$ \\frac{dE_\\theta}{dk}\n",
    "\\sim \\frac{E_\\theta}{k}\n",
    "\\sim \\frac{\\theta^2}{k}\n",
    "\\sim \\frac{\\epsilon_\\theta L}{k U}\n",
    "$$\n",
    "\n",
    "Como $U \\sim (\\epsilon L)^{1/3}$,\n",
    "\n",
    "$$ \\frac{dE_\\theta}{dk}\n",
    "\\sim \\frac{\\epsilon_\\theta L}{k (\\epsilon L)^{1/3}}\n",
    "\\sim \\frac{\\epsilon_\\theta}{k^{5/3} \\epsilon^{1/3}}"
   ]
  }
 ],
 "metadata": {
  "kernelspec": {
   "display_name": "Python 3.10.6 64-bit ('env')",
   "language": "python",
   "name": "python3"
  },
  "language_info": {
   "name": "python",
   "version": "3.10.6"
  },
  "orig_nbformat": 4,
  "vscode": {
   "interpreter": {
    "hash": "8fc42ed56a743f4c1516c71f375d52e48a5777475cd02c374b44061732c88ad3"
   }
  }
 },
 "nbformat": 4,
 "nbformat_minor": 2
}

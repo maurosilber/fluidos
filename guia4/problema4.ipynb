{
 "cells": [
  {
   "cell_type": "markdown",
   "metadata": {},
   "source": [
    "## 4) Escala de Kolmogorov y funciones de estructura"
   ]
  },
  {
   "cell_type": "markdown",
   "metadata": {},
   "source": [
    "> Haciendo uso del solver HD en GHOST,\n",
    "resuelva numéricamente las ecuaciones para un flujo incompresible\n",
    "con $ρ_0 = 1$ y $ν = 3.5 \\times 10^−3$\n",
    "en un recinto cubico de longitud lineal $2π$,\n",
    "resolución espacial $N_x = N_y = N_z = 128$\n",
    "y en ausencia de forzado.\n",
    "Utilizar condiciones iniciales de Taylor Green con `kdn = kup = 1`\n",
    "y velocidad inicial r.m.s. $u_0 = 1$.\n",
    "Hacer uso del Material Adicional.\n",
    "*Ayuda: usar los parametros `outs = 0` y `trans = 1`.*"
   ]
  },
  {
   "cell_type": "markdown",
   "metadata": {},
   "source": [
    "### (a)\n",
    "> Elija el paso temporal `dt` usando la condición CFL.\n",
    "Evolucione el sistema hasta $t = 20$.\n",
    "Guarde espectros de la velocidad cada $∆t ∼ 0.7$,\n",
    "y el campo de velocidad cada $∆t ∼ 1.4$."
   ]
  },
  {
   "cell_type": "markdown",
   "metadata": {},
   "source": [
    "### (b)\n",
    "> Grafique la enstrofía en función del tiempo\n",
    "(ayuda: estudiar el archivo `‘balance.txt’`).\n",
    "Estime la tasa máxima de disipación de energía por unidad de tiempo $ε$,\n",
    "y con ese valor estime el numero de onda de Kolmogorov $k_η$.\n",
    "¿Cómo compara este número de onda con el máximo número de onda resuelto por la simulación?"
   ]
  },
  {
   "cell_type": "markdown",
   "metadata": {},
   "source": [
    "### (c)\n",
    "> Durante el máximo de enstrofía,\n",
    "grafique el espectro de energía en escala log-log.\n",
    "GHOST guarda estos espectros en los archivos `‘kspectrum.*.txt’`\n",
    "(Ayuda: puede promediar varios espectros en el tiempo para reducir las fluctuaciones).\n",
    "Identifique los números de onda relevantes,\n",
    "y grafique como referencia una ley de potencias de Kolmogorov.\n",
    "¿Obtiene el resultado esperado?\n",
    "Interprete."
   ]
  },
  {
   "cell_type": "markdown",
   "metadata": {},
   "source": [
    "### (d)\n",
    "> En los archivos `‘ktransfer.*.txt’`,\n",
    "GHOST guarda la función de transferencia $T(k)$.\n",
    "Utilice estos archivos para calcular el flujo de energía\n",
    "$ Π(K) = − ∑_{k=0}^K T(k) $\n",
    "durante el máximo de enstrofía.\n",
    "¿Qué signo tiene el flujo?\n",
    "Grafique $Π(K)$ en escala lin–log.\n",
    "Interprete."
   ]
  },
  {
   "cell_type": "markdown",
   "metadata": {},
   "source": [
    "### (e)\n",
    "> Grafique el decaimiento de la energía cinética $E(t)$ en escala log-log.\n",
    "¿Qué espera obtener?\n",
    "Compare los resultados con los obtenidos en el Problema 2."
   ]
  },
  {
   "cell_type": "markdown",
   "metadata": {},
   "source": [
    "### (f)\n",
    "> Utilizando la componente $x$ del campo de velocidad en un instante cercano al máximo de enstrofía,\n",
    "calcule la función de estructura de segundo orden\n",
    "> $$ S₂(r) = \\Big\\langle[uₓ(x + r x̂) − uₓ(x)]²\\Big\\rangle $$\n",
    "> donde el valor medio es espacial sobre la coordenada $x$\n",
    "(es decir, sobre todos los puntos del recinto).\n",
    "Grafique $S₂(r)$ en escala log–log.\n",
    "¿Obtiene el resultado esperado? ¿Por qué?"
   ]
  }
 ],
 "metadata": {
  "kernelspec": {
   "display_name": "Python 3.10.6",
   "language": "python",
   "name": "python3"
  },
  "language_info": {
   "name": "python",
   "version": "3.10.6"
  },
  "orig_nbformat": 4,
  "vscode": {
   "interpreter": {
    "hash": "ad732e656cb8f18854aa9ba676638a16ea711dfecbde891b8424a44810606e85"
   }
  }
 },
 "nbformat": 4,
 "nbformat_minor": 2
}

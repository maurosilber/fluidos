{
 "cells": [
  {
   "cell_type": "markdown",
   "metadata": {},
   "source": [
    "## 2)\n",
    "Haciendo uso del solver ROTH en GHOST,\n",
    "resuelva numéricamente la ecuación para un flujo rotante incompresible\n",
    "con densidad uniforme $ρ_0 = 1$ y $ν = 3 × 10^{−3}$\n",
    "en un recinto cubico de longitud lineal $2π$\n",
    "y resolución espacial $N_x = N_y = N_z = 128$.\n",
    "Hacer uso del Material Adicional.\n",
    "Construya una perturbación inicial aleatoria $δu$ (incompresible\n",
    "concentrada en una banda horizontal\n",
    "con altura $2π/3$ en el centro de la caja\n",
    "y nula en el resto del recinto,\n",
    "con número de onda $k = 5$,\n",
    "energía cinética inicial $E = ⟨u^2 /2⟩ = 1$\n",
    "(donde ⟨·⟩ indica el valor medio espacial)\n",
    "y sin forzado.\n",
    "La resolución espacial de todas las simulaciones\n",
    "será $N_x = N_y = N_z = 128$."
   ]
  },
  {
   "cell_type": "markdown",
   "metadata": {},
   "source": [
    "### (a)\n",
    "Estime en base a estos datos\n",
    "qué paso temporal debería utilizar\n",
    "según la condición CFL\n",
    "estudiada en la Guía 1.\n",
    "Estime el número de Rossby\n",
    "para la condición inicial."
   ]
  },
  {
   "cell_type": "markdown",
   "metadata": {},
   "source": [
    "### (b)\n",
    "Para Ω = 10,\n",
    "integre el sistema hasta $t = 1$,\n",
    "guardando la velocidad y la vorticidad cada $∆t = 0.05$ pasos.\n",
    "Visualice la densidad de helicidad,\n",
    "$$ h(r) = u(r) · ω(r) $$\n",
    "en un corte bidimensional en el plano $x̂ − ẑ$.\n",
    "¿Que ocurre con dicha cantidad a medida que el sistema evoluciona?"
   ]
  },
  {
   "cell_type": "markdown",
   "metadata": {},
   "source": [
    "### (c)\n",
    "Estime a qué velocidad media se propagan los paquetes\n",
    "con $h > 0$ y con $h < 0$.\n",
    "¿Qué velocidad espera obtener?\n",
    "Compare estos resultados con una simulación no rotante, es decir, $Ω = 0$."
   ]
  },
  {
   "cell_type": "markdown",
   "metadata": {},
   "source": [
    "### (d)\n",
    "Realice simulaciones variando $Ω$ entre $0$ y $20$ (con pasos de $5$)\n",
    "Grafique la velocidad media de propagación de los paquetes en función de $Ω$."
   ]
  },
  {
   "cell_type": "markdown",
   "metadata": {},
   "source": [
    "### (e)\n",
    "Para este conjunto de simulaciones,\n",
    "calcule $⟨|\\frac{∂u}{∂z}|⟩$ en función del tiempo\n",
    "(utilice diferencias finitas para estimar la derivada espacial).\n",
    "¿Que ocurre al aumentar $Ω$?"
   ]
  }
 ],
 "metadata": {
  "kernelspec": {
   "display_name": "Python 3.10.6 ('fluidos')",
   "language": "python",
   "name": "python3"
  },
  "language_info": {
   "codemirror_mode": {
    "name": "ipython",
    "version": 3
   },
   "file_extension": ".py",
   "mimetype": "text/x-python",
   "name": "python",
   "nbconvert_exporter": "python",
   "pygments_lexer": "ipython3",
   "version": "3.10.6"
  },
  "orig_nbformat": 4,
  "vscode": {
   "interpreter": {
    "hash": "439874a39b328a25278d9ded35b3a72862032f9a8ccb66153f1357733154c015"
   }
  }
 },
 "nbformat": 4,
 "nbformat_minor": 2
}

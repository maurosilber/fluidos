{
  "cells": [
    {
      "cell_type": "markdown",
      "metadata": {
        "id": "nbAGcwlhGAYD"
      },
      "source": [
        "# Guia 2: Flujos rotantes y estratificados\n",
        "\n",
        "Grupo 5\n",
        "- Favio Di Ciocco\n",
        "- Mauro Silberberg\n"
      ]
    },
    {
      "cell_type": "markdown",
      "metadata": {
        "id": "Fj_-EVkDGDbM"
      },
      "source": [
        "## 1) Rotación y helicidad cinética\n",
        "\n",
        "Considere un fluído incompresible en un sistema rotante con velocidad angular $\\pmb{\\Omega}$,\n",
        "\n",
        "\\begin{aligned}\n",
        "\\frac{\\partial \\textbf{u}}{\\partial t} + (\\textbf{u} \\cdot \\nabla) \\textbf{u} = - \\nabla \\left( \\frac{p}{\\rho} \\right) + 2 \\textbf{u} \\times \\pmb{\\Omega} + \\nu \\nabla^2 \\textbf{u} \\tag{1}\n",
        "\\end{aligned}\n",
        "\n",
        "> a) Muestre que para condiciones periódicas, la helicidad cinética,\n",
        "\\begin{aligned}\n",
        "H \\equiv \\int_V \\textbf{u} \\cdot \\pmb{\\omega} \\, dV\n",
        "\\end{aligned}\n",
        "> satisface una ecuación de balance y se conserva cuando $\\nu = 0$\n",
        ">\n",
        "> b) Para el caso en que $\\nu \\neq 0$, muestre que la tasa de disipación de helicidad cinética está controlada por,\n",
        "\\begin{aligned}\n",
        "S \\equiv \\int_V \\pmb{\\omega} \\times (\\nabla \\times \\pmb{\\omega}) \\, dV\n",
        "\\end{aligned}\n",
        ">\n",
        "> c) La helicidad cinética es una forma de cuantificar si un flujo posee (o no) simetría de reflexión. ¿Qué ocurre con el signo de $\\textit{H}$ ante reflexiones?"
      ]
    },
    {
      "cell_type": "markdown",
      "metadata": {
        "id": "mRLnYwq9WV6l"
      },
      "source": [
        "### a) Ecuación de balance para la helicidad\n",
        "\n",
        "Para poder construir la ecuación de balance de la helicidad\n",
        "querríamos partir de la primer ecuación de $\\textbf{u}$\n",
        "y construir términos que contengan $\\textbf{u} \\cdot \\pmb{\\omega}$.\n",
        "Lo que haremos será entonces aplicar el rotor a esta ecuación\n",
        "y de esa forma tener una segunda ecuación para la dinámica de $\\pmb{\\omega}$.\n",
        "Luego haremos la suma de $\\pmb{\\omega} \\cdot (1) + \\textbf{u} \\cdot (2)$.\n",
        "\n",
        "---\n",
        "\n",
        "Aplicando el rotor,\n",
        "obtenenemos la siguiente ecuación para $\\pmb{\\omega}$:\n",
        "\n",
        "$$ \\frac{\\partial \\pmb{\\omega}}{\\partial t}\n",
        "- (\\pmb{\\omega} \\nabla)\\textbf{u}\n",
        "+ (\\textbf{u} \\nabla) \\pmb{\\omega}\n",
        "= 2 (\\pmb{\\Omega} \\nabla) \\textbf{u}\n",
        "+ \\nu \\nabla^2 \\pmb{\\omega}\n",
        "\\tag{2}\n",
        "$$\n",
        "\n",
        "---\n",
        "\n",
        "Realizando la suma de $\\pmb{\\omega} \\cdot (1) + \\textbf{u} \\cdot (2)$,\n",
        "obtenemos los siguientes términos:\n",
        "\n",
        "$$ \\underbrace{\\pmb{\\omega} \\frac{\\partial \\textbf{u}}{\\partial t} \n",
        "+ \\textbf{u} \\frac{\\partial \\pmb{\\omega}}{\\partial t}}_{(1)} \n",
        "+ \\underbrace{\\pmb{\\omega} (\\textbf{u} \\cdot \\nabla) \\textbf{u} \n",
        "+ \\textbf{u} (\\textbf{u} \\cdot \\nabla) \\pmb{\\omega}}_{(2)}\n",
        "- \\underbrace{ \\textbf{u} (\\pmb{\\omega} \\cdot \\nabla)\\textbf{u}}_{(3)}\n",
        "= - \\underbrace{\\pmb{\\omega} \\nabla \\left( \\frac{p}{\\rho} \\right)}_{(4)} \n",
        "+ \\underbrace{2 \\pmb{\\omega} (\\textbf{u} \\times \\pmb{\\Omega}) \n",
        "+ 2 \\textbf{u} (\\pmb{\\Omega} \\cdot \\nabla) \\textbf{u}}_{(5)} \n",
        "+ \\underbrace{\\nu \\, \\pmb{\\omega} \\nabla^2 \\textbf{u} \n",
        "+ \\nu \\, \\textbf{u} \\nabla^2 \\pmb{\\omega}}_{(6)}  \\tag{3}\n",
        "$$\n",
        "\n",
        "Desarrollamos cada término de forma que surja le helicidad\n",
        "y que el resto de los términos queden escritos como la divergencia de algo."
      ]
    },
    {
      "cell_type": "markdown",
      "metadata": {
        "id": "5uNRcOxkd2qy"
      },
      "source": [
        "### Desarrollo de los términos\n",
        "\n",
        "**Término 1**\n",
        "\n",
        "$$ \\pmb{\\omega} \\frac{\\partial \\textbf{u}}{\\partial t} \n",
        "+ \\textbf{u} \\frac{\\partial \\pmb{\\omega}}{\\partial t} \n",
        "= \\frac{\\partial (\\textbf{u} \\cdot \\pmb{\\omega})}{\\partial t}\n",
        "$$\n",
        "\n",
        "---\n",
        "\n",
        "**Término 2**\n",
        "\n",
        "$$ \\pmb{\\omega} (\\textbf{u} \\cdot \\nabla) \\textbf{u} \n",
        "+ \\textbf{u} (\\textbf{u} \\cdot \\nabla) \\pmb{\\omega} \n",
        "= \\nabla[\\textbf{u}(\\textbf{u} \\cdot \\pmb{\\omega})]\n",
        "$$\n",
        "---\n",
        "\n",
        "**Término 3**\n",
        "\n",
        "$$ \\textbf{u} (\\pmb{\\omega} \\cdot \\nabla)\\textbf{u} \n",
        "= \\nabla \\left( \\pmb{\\omega} \\frac{u^2}{2} \\right)\n",
        "$$\n",
        "---\n",
        "\n",
        "**Término 4**\n",
        "\n",
        "$$ \\pmb{\\omega} \\nabla \\left( \\frac{p}{\\rho} \\right) \n",
        "= \\nabla \\left(\\pmb{\\omega} \\frac{p}{\\rho} \\right)\n",
        "$$\n",
        "\n",
        "---\n",
        "\n",
        "**Término 5**\n",
        "\n",
        "$$\n",
        "2 \\pmb{\\omega} (\\textbf{u} \\times \\pmb{\\Omega}) \n",
        "+ 2 \\textbf{u} (\\pmb{\\Omega} \\cdot \\nabla) \\textbf{u} \n",
        "= \\nabla[\\textbf{u} (\\Omega \\cdot \\textbf{u})]\n",
        "$$\n",
        "\n",
        "---\n",
        "\n",
        "**Término 6**\n",
        "\n",
        "Este término no necesitamos desarrollarlo todavía.\n",
        "Podemos dejarlo como está\n",
        "y ya en el punto **b** lo trabajamos\n",
        "para hacer aparecer la magnitud $\\textit{S}$."
      ]
    },
    {
      "cell_type": "markdown",
      "metadata": {
        "id": "8kNSRvr5ifvM"
      },
      "source": [
        "Reemplazamos los términos calculados en la ecuación $(3)$\n",
        "e integramos respecto del volumen.\n",
        "Esto nos queda entonces como:\n",
        "\n",
        "\\begin{aligned}\n",
        "\\frac{\\partial }{\\partial t} \\underbrace{\\int_V \\textbf{u} \\cdot \\pmb{\\omega} \\, dV}_{\\equiv H} \n",
        "& = \\underbrace{\\int_V \\{ -\\nabla[\\textbf{u}(\\textbf{u} \\cdot \\pmb{\\omega})] \n",
        "+ \\nabla \\left( \\pmb{\\omega} \\frac{u^2}{2} \\right) \n",
        "- \\nabla \\left( \\pmb{\\omega} \\frac{p}{\\rho} \n",
        "+ \\nabla[\\textbf{u}(\\textbf{u} \\cdot \\pmb{\\Omega})] \\right) \\} \\, dV }\n",
        "_{= 0, \\text{ Utilizando Gauss y condiciones de contorno periódicas}} \n",
        "+  \\nu \\int_V \\pmb{\\omega} \\nabla^2 \\textbf{u} \\, dV \n",
        "+ \\nu \\int_V \\textbf{u} \\nabla^2 \\pmb{\\omega} \\, dV  \\\\\n",
        "\\frac{\\partial H}{\\partial t} \n",
        "& = \\nu \\int_V \\left(  \\pmb{\\omega} \\nabla^2 \\textbf{u}\n",
        "+ \\textbf{u} \\nabla^2 \\pmb{\\omega} \\right) \\, dV\n",
        "\\end{aligned}\n",
        "\n",
        "De esta manera,\n",
        "si $\\nu = 0$ la helicidad del sistema se conserva."
      ]
    },
    {
      "cell_type": "markdown",
      "metadata": {
        "id": "nrV9tDK2t6fP"
      },
      "source": [
        "### b) Disipación de la helicidad\n",
        "\n",
        "Dada la identidad de Green:\n",
        "\n",
        "\\begin{aligned}\n",
        "\\textbf{P} (\\nabla \\times \\nabla \\times \\textbf{Q})\n",
        "- \\textbf{Q} (\\nabla \\times \\nabla \\times \\textbf{P}) =\n",
        "\\nabla (\\textbf{Q} \\times (\\nabla \\times \\textbf{P}) \n",
        "- \\textbf{P} \\times (\\nabla \\times \\textbf{Q}))\n",
        "\\quad \\quad (4)\n",
        "\\end{aligned}\n",
        "\n",
        "Reemplazando $\\textbf{P} = \\pmb{\\omega}$ y $\\textbf{Q} = \\textbf{u}$ :\n",
        "\n",
        "\\begin{aligned}\n",
        "\\pmb{\\omega}(\\nabla \\times \\nabla \\times \\textbf{u}) \n",
        "- \\textbf{u}(\\nabla \\times \\nabla \\times \\pmb{\\omega})\n",
        "&=\n",
        "\\nabla[\\textbf{u} \\times (\\nabla \\times \\pmb{\\omega})\n",
        "- \\underbrace{\\pmb{\\omega} \\times (\\nabla \\times \\textbf{u})}_{\\pmb{\\omega} \\times \\pmb{\\omega} = 0 }] \\\\\\\\\n",
        "\\pmb{\\omega}(\\nabla \\times \\pmb{\\omega})\n",
        "&=\n",
        "\\underbrace{\\nabla[\\textbf{u} \\times (\\nabla \\times \\pmb{\\omega})]}_{(1)} \n",
        "+ \\underbrace{\\textbf{u}(\\nabla \\times \\nabla \\times \\pmb{\\omega})}_{(2)}\n",
        "\\end{aligned}\n",
        "\n",
        "El término de la izquierda es el que queremos obtener.\n",
        "Por tanto,\n",
        "tenemos que trabajar los términos de la derecha\n",
        "y vincularlos con los términos laplacianos de la ecuación $\\textit{(3)}$."
      ]
    },
    {
      "cell_type": "markdown",
      "metadata": {
        "id": "-S54sPYKywMk"
      },
      "source": [
        "### Desarrollo de los términos\n",
        "\n",
        "**Término 1**\n",
        "\n",
        "\\begin{aligned}\n",
        "\\nabla[\\textbf{u} \\times (\\nabla \\times \\pmb{\\omega})] =\n",
        "\\partial_i u_j \\partial_i \\omega_j\n",
        "+ u_j \\partial^2_{ii} \\omega_j\n",
        "-\\partial_i u_j \\partial_j \\omega_i\n",
        "\\end{aligned}\n",
        "\n",
        "---\n",
        "\n",
        "**Término 2**\n",
        "\n",
        "\\begin{aligned}\n",
        "\\textbf{u}(\\nabla \\times \\nabla \\times \\pmb{\\omega}) =\n",
        "- u_i \\partial^2_{jj} \\omega_i\n",
        "\\end{aligned}\n",
        "\n",
        "---\n",
        "\n",
        "Luego,\n",
        "sumando estos términos se obtiene:\n",
        "\n",
        "\\begin{aligned}\n",
        "\\pmb{\\omega}(\\nabla \\times \\pmb{\\omega}) & =\n",
        "\\nabla[\\textbf{u} \\times (\\nabla \\times \\pmb{\\omega})]\n",
        "+ \\textbf{u}(\\nabla \\times \\nabla \\times \\pmb{\\omega}) \\\\\n",
        "& = \\partial_i u_j \\partial_i \\omega_j\n",
        "+ u_j \\partial^2_{ii} \\omega_j\n",
        "-\\partial_i u_j \\partial_j \\omega_i\n",
        "- u_i \\partial^2_{jj} \\omega_i \\\\\n",
        "& = \\partial_i u_j \\partial_i \\omega_j\n",
        "- \\partial_i u_j \\partial_j \\omega_i \\\\\n",
        "\\pmb{\\omega}(\\nabla \\times \\pmb{\\omega})\n",
        "+ \\nabla [(\\textbf{u} \\nabla) \\pmb\\omega] \n",
        "& = \\partial_i u_j \\partial_i \\omega_j\n",
        "\\tag{5}\n",
        "\\end{aligned}\n",
        "\n",
        "De esta manera,\n",
        "el término de $S$ que buscamos\n",
        "puede ser introducido en la ecuación $(3)$\n",
        "si conseguimos reescribir los términos disipativos\n",
        "y hacer aparecer $\\partial_i u_j \\partial_i \\omega_j$.\n",
        "Para esto,\n",
        "seguimos un proceso similar al que hicimos en el punto anterior\n",
        "e intentamos introducir los vectores dentro del laplaciano.\n",
        "\n",
        "\\begin{aligned}\n",
        "\\nabla^2(\\textbf{u} \\cdot \\pmb\\omega) & =\n",
        "u_i \\partial^2_{jj} \\omega_i\n",
        "+ \\omega_i \\partial^2_{jj} u_i\n",
        "+ 2 \\partial_i u_j \\partial_i \\omega_j \\\\\n",
        "& = \\textbf{u} \\nabla^2 \\pmb\\omega\n",
        "+ \\pmb\\omega \\nabla^2 \\textbf{u}\n",
        "+2 \\pmb\\omega (\\nabla \\times \\pmb\\omega)\n",
        "+2 \\nabla[(\\textbf{u} \\nabla)\\pmb\\omega]\n",
        "\\end{aligned}"
      ]
    },
    {
      "cell_type": "markdown",
      "metadata": {
        "id": "HP1u_rctTino"
      },
      "source": [
        "Reemplazo los dos términos disipativos de la ecuación $(3)$\n",
        "con los tres términos obtenidos en la última ecuación.\n",
        "\n",
        "\\begin{aligned}\n",
        "\\frac{\\partial H}{\\partial t} \n",
        "& = \\nu \\int_V \\left(  \\pmb{\\omega} \\nabla^2 \\textbf{u}\n",
        "+ \\textbf{u} \\nabla^2 \\pmb{\\omega} \\right) \\, dV \\\\\n",
        "& =\\nu \\int_V \\{ \\nabla^2(\\textbf{u} \\cdot \\pmb\\omega) \n",
        "- 2 \\pmb\\omega (\\nabla \\times \\pmb\\omega)\n",
        "- 2 \\nabla[(\\textbf{u} \\nabla) \\pmb\\omega] \\} \\, dV \\\\\n",
        "& = 0\n",
        "- 2 \\nu \\int_V \\pmb\\omega (\\nabla \\times \\pmb\\omega) \\, dV\n",
        "- 0 \\\\\n",
        "& \\equiv - 2 \\nu S\n",
        "\\end{aligned}\n",
        "\n",
        "Donde puedo anular las integrales del primer\n",
        "y último término utilizando el teorema de Gauss\n",
        "y aplicando condiciones periódicas de contorno."
      ]
    },
    {
      "cell_type": "markdown",
      "metadata": {
        "id": "9y1F2-lMX2hT"
      },
      "source": [
        "### c) Helicidad cinética ante reflexiones\n",
        "\n",
        "La helicidad cinética surge del producto escalar de $\\textbf{u}$ y $\\pmb\\omega$,\n",
        "siendo el primero un vector y el segundo un pseudovector.\n",
        "Esto determina que $H$ sea un pseudoescalar,\n",
        "es decir,\n",
        "una magnitud que ante reflexiones de simetría cambia de signo."
      ]
    }
  ],
  "metadata": {
    "colab": {
      "provenance": []
    },
    "kernelspec": {
      "display_name": "Python 3.10.6 ('fluidos')",
      "language": "python",
      "name": "python3"
    },
    "language_info": {
      "name": "python",
      "version": "3.10.6"
    },
    "vscode": {
      "interpreter": {
        "hash": "439874a39b328a25278d9ded35b3a72862032f9a8ccb66153f1357733154c015"
      }
    }
  },
  "nbformat": 4,
  "nbformat_minor": 0
}

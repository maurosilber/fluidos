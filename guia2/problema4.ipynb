{
 "cells": [
  {
   "cell_type": "markdown",
   "metadata": {},
   "source": [
    "## 4)\n",
    "Haciendo uso del solver BOUSS en GHOST,\n",
    "resuelva numéricamente las ecuaciones para un flujo incompresible\n",
    "con $ρ_0 = 1$, $ν = κ = 3 × 10^{−3}$\n",
    "en un recinto cubico de longitud lineal $2π$\n",
    "y resolución espacial $N_x = N_y = N_z = 128$.\n",
    "Hacer uso del Material Adicional.\n",
    "Imponga un viento horizontal uniforme $u = U x̂$ (con $U = 1$),\n",
    "y perturbe este viento con una fuerza $f = f_0 ẑ$\n",
    "confinada a una banda vertical con $x ∈ [0, π/10]$.\n",
    "Observe que este es un modelo simplificado\n",
    "para el estudio de ondas de sotavento."
   ]
  },
  {
   "cell_type": "markdown",
   "metadata": {},
   "source": [
    "### (a)\n",
    "Para $f_0 = 0.1$,\n",
    "integre el sistema hasta $t = 5$\n",
    "con una frecuencia de Brunt-Väisälä $N = 10$.\n",
    "Verifique que se genera una onda estacionaria.\n",
    "*Ayuda: puede guardar los campos cada $∆t = 0.5$,\n",
    "y observar cortes de la temperatura en el plano $x̂ − ẑ$.*"
   ]
  },
  {
   "cell_type": "markdown",
   "metadata": {},
   "source": [
    "### (b)\n",
    "Estudie la longitud de onda de la onda estacionaria\n",
    "en función de la frecuencia de Brunt-Väisälä $N$,\n",
    "variándola entre $1$ y $15$ (pasos de a $3$)."
   ]
  }
 ],
 "metadata": {
  "kernelspec": {
   "display_name": "Python 3.10.6 ('fluidos')",
   "language": "python",
   "name": "python3"
  },
  "language_info": {
   "name": "python",
   "version": "3.10.6"
  },
  "orig_nbformat": 4,
  "vscode": {
   "interpreter": {
    "hash": "439874a39b328a25278d9ded35b3a72862032f9a8ccb66153f1357733154c015"
   }
  }
 },
 "nbformat": 4,
 "nbformat_minor": 2
}

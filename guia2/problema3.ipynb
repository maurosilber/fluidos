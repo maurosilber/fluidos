{
  "cells": [
    {
      "cell_type": "markdown",
      "metadata": {
        "id": "pb1xgkg3Dgah"
      },
      "source": [
        "## 3) Estratificación y energía total\n",
        "\n",
        "Considere un fluído estratificado e incompresible de densidad media $\\bar{\\rho}$,\n",
        "bajo la aproximación de Boussinesq.\n",
        "El fluído satisfaces las siguientes ecuaciones,\n",
        "\n",
        "\\begin{aligned}\n",
        "\\frac{\\partial \\textbf{u}}{\\partial t}\n",
        "+ \\textbf{u} \\nabla \\textbf{u} & =\n",
        "- \\nabla \\left( \\frac{p}{\\rho} \\right)\n",
        "- N \\theta \\hat{z}\n",
        "+ \\nu \\nabla^2 \\textbf{u} \\\\\n",
        "\\frac{\\partial \\theta}{\\partial t} \n",
        "+ \\textbf{u} \\nabla \\theta & =\n",
        "N u_z \n",
        "+ \\kappa \\nabla^2 \\theta\n",
        "\\end{aligned}\n",
        "\n",
        "Donde N es la frecuencia de Brunt-Väisälä uniforme,\n",
        "$\\theta$ es el potencial de las fluctuaciones de las temperaturas,\n",
        "$\\nu$ es la viscosidad cinemática y $\\kappa$ es la difusividad térmica.\n",
        "\n",
        "> a) Muestre que la energía cinética $E_c = \\frac{\\rho_0}{2} \\int_V u^2 dV $ no se conserva en el caso ideal ($\\nu = \\kappa = 0$).\n",
        "> Asuma condiciones de contorno periódicas.\n",
        "> ¿Se le ocurren otras?\n",
        ">\n",
        "> b) Obtenga una ecuación de balance para la energía total (cinética más potencial):\n",
        "\\begin{align}\n",
        "E = \\frac{\\rho_0}{2} \\int_V u^2 dV + \\frac{1}{2} \\int_V \\theta^2 dV\n",
        "\\end{align}\n",
        ">\n",
        "> c) ¿Qué cantidades controlan la tasa de disipación total? ¿Físicamente a qué corresponden?"
      ]
    },
    {
      "cell_type": "markdown",
      "metadata": {
        "id": "ieyrvHj1IIIB"
      },
      "source": [
        "### a)\n",
        "\n",
        "Para obtener una ecuación de balance para la energia,\n",
        "multiplicamos la ecuación $(5)$ por $\\textbf{u}$:\n",
        "\n",
        "Del primer termino,\n",
        "se tiene:\n",
        "\n",
        "$$ \\textbf{u} \\cdot \\frac{\\partial \\textbf{u}}{\\partial t}\n",
        "= \\frac{\\partial (\\textbf{u}^2 / 2)}{\\partial t} $$\n",
        "\n",
        "Del segundo término,\n",
        "se tiene:\n",
        "$$ \\begin{aligned} \\textbf{u} \\cdot (\\textbf{u} \\cdot \\nabla) \\textbf{u}\n",
        "&= (\\textbf{u} \\cdot \\nabla) \\; (\\textbf{u}^2 / 2) \\\\\n",
        "\\text{por partes}\n",
        "&= \\nabla \\; (\\textbf{u} \\; \\textbf{u}^2 / 2)\n",
        "- (\\textbf{u}^2 / 2) \\; \\nabla \\cdot \\textbf{u} \\\\\n",
        "\\text{u incompresible}\n",
        "&= \\nabla \\; (\\textbf{u} \\; \\textbf{u}^2 / 2)\n",
        "\\end{aligned} $$\n",
        "\n",
        "Para el tercer término,\n",
        "$$ \\textbf{u} \\cdot \\nabla \\left(\\frac{p}{\\rho} \\right)\n",
        "= \\nabla \\left(\\textbf{u} \\frac{p}{\\rho} \\right)\n",
        "$$\n",
        "donde también se utiliza que $u$ es incompresible.\n",
        "\n",
        "Para el cuarto término,\n",
        "el que contiene a $\\theta$,\n",
        "al combinarlo con la otra ecuación,\n",
        "se llega a:\n",
        "\n",
        "$$ \\begin{aligned}\n",
        "\\textbf{u} \\cdot N \\theta \\hat{z}\n",
        "&= N \\theta u_z\n",
        "\\\\ \\\\\n",
        "&= \\theta \\; \\frac{\\partial \\theta}{\\partial t}\n",
        "+ \\theta \\; \\textbf{u} \\nabla \\theta\n",
        "- \\theta \\; \\kappa \\nabla^2 \\theta\n",
        "\\\\ \\\\\n",
        "&= \\frac{\\partial (\\theta^2 / 2)}{\\partial t}\n",
        "+ \\textbf{u} \\nabla (\\theta^2 / 2)\n",
        "- \\theta \\; \\kappa \\nabla^2 \\theta\n",
        "\\\\ \\\\\n",
        "&= \\frac{\\partial (\\theta^2 / 2)}{\\partial t}\n",
        "+ \\nabla (\\textbf{u} \\; \\theta^2 / 2)\n",
        "- \\theta \\; \\kappa \\nabla^2 \\theta\n",
        "\\end{aligned} $$\n",
        "\n",
        "donde también se utilizó la incompresibilidad del fluido\n",
        "en el último paso.\n",
        "\n",
        "Uniendo todo,\n",
        "se obtiene la siguiente ecuación para $u^2 / 2$:\n",
        "\n",
        "$$\n",
        "\\frac{\\partial (\\textbf{u}^2 / 2)}{\\partial t}\n",
        "+ \\nabla \\; (\\textbf{u} \\; \\textbf{u}^2 / 2)\n",
        "= - \\frac{\\partial (\\theta^2 / 2)}{\\partial t}\n",
        "- \\nabla (\\textbf{u} \\; \\theta^2 / 2)\n",
        "+ \\theta \\; \\kappa \\nabla^2 \\theta\n",
        "+ \\textbf{u} \\; \\nu \\nabla^2 \\textbf{u}\n",
        "- \\nabla \\left(\\textbf{u} \\frac{p}{\\rho} \\right)\n",
        "$$"
      ]
    },
    {
      "cell_type": "markdown",
      "metadata": {
        "id": "e2MTO2bmWyej"
      },
      "source": [
        "Multiplicando por $\\rho$ e integrando en volumen,\n",
        "obtenemos las variaciones de energía cinética $E_c$ y potencial $E_p$:\n",
        "\n",
        "$$ \\begin{aligned}\n",
        "\\int_{V} dV \\rho \\; \\frac{\\partial (\\textbf{u}^2 / 2)}{\\partial t}\n",
        "= \\frac{\\partial}{\\partial t} \\int_{V} dV \\rho \\; (\\textbf{u}^2 / 2)\n",
        "= \\frac{\\partial E_c}{\\partial t}\n",
        "\\\\ \\\\\n",
        "\\int_{V} dV \\rho \\; \\frac{\\partial (\\theta^2 / 2)}{\\partial t}\n",
        "= \\frac{\\partial E_p}{\\partial t}\n",
        "\\end{aligned} $$\n",
        "\n",
        "Para los términos con divergencias,\n",
        "por el teorema de Stokes,\n",
        "podemos cambiar la integral de la divergencia\n",
        "por una integral sobre la superficie.\n",
        "Esta integral se anula ya que tenemos condiciones de contorno periodicas.\n",
        "\n",
        "$$ \\begin{aligned}\n",
        "&\\int_{V} dV \\rho \\; \\nabla \\; (\\textbf{u} \\; \\textbf{u}^2 / 2)\n",
        "= \\int_{S} dS \\rho \\; (\\textbf{u} \\; \\textbf{u}^2 / 2)\n",
        "= 0\n",
        "\\\\\n",
        "&\\int_{V} dV \\rho \\; \\nabla \\;  (\\textbf{u} \\; \\theta^2 / 2) = 0\n",
        "\\\\\n",
        "&\\int_{V} dV \\rho \\; \\nabla \\left(\\textbf{u} \\frac{p}{\\rho} \\right) = 0\n",
        "\\end{aligned} $$\n",
        "\n",
        "Considerando el caso ideal,\n",
        "($\\nu = \\kappa = 0$),\n",
        "llegamos a:\n",
        "\n",
        "$$ \\frac{\\partial E_c}{\\partial t} + \\frac{\\partial E_p}{\\partial t} = 0 $$"
      ]
    },
    {
      "cell_type": "markdown",
      "metadata": {
        "id": "x5zW90n8aent"
      },
      "source": [
        "## b)\n",
        "\n",
        "En el caso no ideal,\n",
        "tenemos:\n",
        "\n",
        "$$ \\frac{\\partial E_c}{\\partial t} + \\frac{\\partial E_p}{\\partial t}\n",
        "= \\int_{V} dV \\rho \\; \\theta \\; \\kappa \\nabla^2 \\theta\n",
        "+ \\int_{V} dV \\rho \\; \\textbf{u} \\; \\nu \\nabla^2 \\textbf{u}\n",
        "$$"
      ]
    },
    {
      "cell_type": "markdown",
      "metadata": {
        "id": "vG16F1embpYq"
      },
      "source": [
        "Para el primer término,\n",
        "\n",
        "$$ \\int_{V} dV \\rho \\; \\theta \\; \\kappa \\nabla^2 \\theta\n",
        "= \\int_{V} dV \\rho \\; \\kappa \\; \\nabla^2 (\\theta^2 / 2)\n",
        "- \\int_{V} dV \\rho \\; \\kappa \\; (\\nabla \\theta)^2\n",
        "$$\n",
        "\n",
        "donde el primer término se anula\n",
        "por las condiciones de contorno periodicas."
      ]
    },
    {
      "cell_type": "markdown",
      "metadata": {
        "id": "ZYJ8TT5ybuMy"
      },
      "source": [
        "Para el segundo término,\n",
        "\n",
        "$$ \\int_{V} dV \\rho \\; \\textbf{u} \\; \\nu \\nabla^2 \\textbf{u}\n",
        "= \\int_{V} dV \\rho \\; \\nabla^2 \\textbf{u}\n",
        "- \\int_{V} dV \\rho \\; \\textbf{u} \\cdot ∇ × \\textbf{u}\n",
        "- \\int_{V} dV \\rho \\; ∇ \\Big( (\\textbf{u} ⋅ ∇) \\textbf{u} \\Big)\n",
        "$$\n",
        "\n",
        "El primer y el tercer término se cancelan al integrar en superficie\n",
        "por las condiciones de contorno periodicas.\n",
        "\n",
        "El segundo término\n",
        "podemos reescribirlo en términos de la vorticidad $ω = ∇ × \\textbf{u}$,\n",
        "donde su producto se conoce como la helicidad $h$."
      ]
    },
    {
      "cell_type": "markdown",
      "metadata": {
        "id": "BZBLdh0tdi3d"
      },
      "source": [
        "Finalmente,\n",
        "llegamos a la siguiente ecuación de balance para la energía:\n",
        "\n",
        "$$ \\frac{\\partial E_c}{\\partial t} + \\frac{\\partial E_p}{\\partial t}\n",
        "= \\int_{V} dV \\rho \\; \\kappa \\; (\\nabla \\theta)^2\n",
        "+ \\int_{V} dV \\rho \\; \\nu \\; h\n",
        "$$"
      ]
    }
  ],
  "metadata": {
    "colab": {
      "collapsed_sections": [],
      "provenance": []
    },
    "kernelspec": {
      "display_name": "Python 3.10.6 ('fluidos')",
      "language": "python",
      "name": "python3"
    },
    "language_info": {
      "name": "python",
      "version": "3.10.6"
    },
    "vscode": {
      "interpreter": {
        "hash": "439874a39b328a25278d9ded35b3a72862032f9a8ccb66153f1357733154c015"
      }
    }
  },
  "nbformat": 4,
  "nbformat_minor": 0
}
